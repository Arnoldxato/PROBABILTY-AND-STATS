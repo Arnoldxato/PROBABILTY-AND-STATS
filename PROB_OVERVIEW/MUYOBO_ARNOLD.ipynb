{
 "cells": [
  {
   "cell_type": "markdown",
   "metadata": {},
   "source": [
    "# MUYOBO ARNOLD\n",
    "# M24B13/024\n",
    "# B27422\n",
    "# muyoboarnold@gamail.com\n",
    "# 0752310583\n"
   ]
  },
  {
   "cell_type": "markdown",
   "metadata": {},
   "source": [
    "# BSIT\n",
    "## PROBABILITY\n",
    "### STATISTICS\n"
   ]
  },
  {
   "cell_type": "markdown",
   "metadata": {},
   "source": [
    "This paragraph  explains more\n",
    "- WE are having an over view of the stats and prob<br/>-from the results above the p-value``0.9834``\n",
    "\n",
    "The tag <br/> \n",
    "- Can be used as a line breaker\n",
    "\n"
   ]
  },
  {
   "cell_type": "code",
   "execution_count": 2,
   "metadata": {},
   "outputs": [
    {
     "name": "stdout",
     "output_type": "stream",
     "text": [
      "Hello world\n"
     ]
    }
   ],
   "source": [
    "print(\"Hello world\")"
   ]
  }
 ],
 "metadata": {
  "kernelspec": {
   "display_name": "Python 3",
   "language": "python",
   "name": "python3"
  },
  "language_info": {
   "codemirror_mode": {
    "name": "ipython",
    "version": 3
   },
   "file_extension": ".py",
   "mimetype": "text/x-python",
   "name": "python",
   "nbconvert_exporter": "python",
   "pygments_lexer": "ipython3",
   "version": "3.11.9"
  }
 },
 "nbformat": 4,
 "nbformat_minor": 2
}
